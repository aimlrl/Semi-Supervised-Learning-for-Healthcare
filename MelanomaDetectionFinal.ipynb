{
  "cells": [
    {
      "cell_type": "code",
      "execution_count": null,
      "metadata": {
        "id": "BgetXBBdDaTb"
      },
      "outputs": [],
      "source": [
        "from keras.preprocessing.image import ImageDataGenerator"
      ]
    },
    {
      "cell_type": "code",
      "execution_count": null,
      "metadata": {
        "id": "ESX5nIQuR5G-"
      },
      "outputs": [],
      "source": [
        "unlabeled_data_gen = ImageDataGenerator(rotation_range=90,brightness_range=(0.5,1),horizontal_flip=True,vertical_flip=True,rescale=1.0/255.0)"
      ]
    },
    {
      "cell_type": "code",
      "execution_count": null,
      "metadata": {
        "id": "ijxdysKCToMT"
      },
      "outputs": [],
      "source": [
        "import os\n",
        "import matplotlib.pyplot as plt"
      ]
    },
    {
      "cell_type": "code",
      "execution_count": null,
      "metadata": {
        "id": "7cxt5_GRTuGt",
        "collapsed": true
      },
      "outputs": [],
      "source": [
        "unlabeled_datagen = unlabeled_data_gen.flow_from_directory(directory=\"/content/drive/MyDrive/MelanomaDetection/MelanomaDetection\",\n",
        "                                                           target_size=(32,32),classes=['unlabeled'],batch_size=256)"
      ]
    },
    {
      "cell_type": "code",
      "execution_count": null,
      "metadata": {
        "id": "ZIoOj2gpU4Q9"
      },
      "outputs": [],
      "source": [
        "from keras.models import Sequential\n",
        "from keras.layers import Input,Conv2D,LeakyReLU,Flatten,Dropout,Dense,Reshape,Conv2DTranspose,BatchNormalization\n",
        "import tensorflow as tf"
      ]
    },
    {
      "cell_type": "code",
      "execution_count": null,
      "metadata": {
        "id": "GSOKI2DRWEmg"
      },
      "outputs": [],
      "source": [
        "def discriminator():\n",
        "\n",
        "  dis = Sequential(name=\"Discriminator\")\n",
        "\n",
        "  dis.add(Conv2D(filters=64,kernel_size=4,strides=2,padding=\"same\",input_shape=(32,32,3),use_bias=False))\n",
        "  dis.add(LeakyReLU(alpha=0.2))\n",
        "\n",
        "  dis.add(Conv2D(filters=128,kernel_size=4,strides=2,padding=\"same\",use_bias=False))\n",
        "  dis.add(BatchNormalization())\n",
        "  dis.add(LeakyReLU(alpha=0.2))\n",
        "\n",
        "  dis.add(Conv2D(filters=256,kernel_size=4,strides=2,padding=\"same\",use_bias=False))\n",
        "  dis.add(BatchNormalization())\n",
        "  dis.add(LeakyReLU(alpha=0.2))\n",
        "\n",
        "  dis.add(Flatten())\n",
        "  dis.add(Dropout(0.4))\n",
        "\n",
        "  dis.add(Dense(units=1,activation=\"sigmoid\"))\n",
        "\n",
        "  return dis"
      ]
    },
    {
      "cell_type": "code",
      "execution_count": null,
      "metadata": {
        "id": "bbIoKLfVfc3m"
      },
      "outputs": [],
      "source": [
        "def generator():\n",
        "\n",
        "  noise_shape = 100\n",
        "  gen = Sequential(name=\"Generator\")\n",
        "\n",
        "  gen.add(Input(shape=(noise_shape,)))\n",
        "  gen.add(Dense(units=4*4*100))\n",
        "  gen.add(Reshape((4,4,100)))\n",
        "\n",
        "  gen.add(Conv2DTranspose(filters=256,kernel_size=4,strides=1,padding=\"same\",use_bias=False))\n",
        "  gen.add(BatchNormalization())\n",
        "  gen.add(LeakyReLU(alpha=0.2))\n",
        "\n",
        "  gen.add(Conv2DTranspose(filters=128,kernel_size=4,strides=2,padding=\"same\",use_bias=False))\n",
        "  gen.add(BatchNormalization())\n",
        "  gen.add(LeakyReLU(alpha=0.2))\n",
        "\n",
        "  gen.add(Conv2DTranspose(filters=64,kernel_size=4,strides=2,padding=\"same\",use_bias=False))\n",
        "  gen.add(BatchNormalization())\n",
        "  gen.add(LeakyReLU(alpha=0.2))\n",
        "\n",
        "  gen.add(Conv2DTranspose(filters=3,kernel_size=4,strides=2,padding=\"same\",activation=\"tanh\",use_bias=False))\n",
        "\n",
        "  return gen"
      ]
    },
    {
      "cell_type": "code",
      "execution_count": null,
      "metadata": {
        "id": "YHu1Rmp-mL70"
      },
      "outputs": [],
      "source": [
        "D = discriminator()"
      ]
    },
    {
      "cell_type": "code",
      "execution_count": null,
      "metadata": {
        "id": "77K3fdT3mWk4"
      },
      "outputs": [],
      "source": [
        "D.summary()"
      ]
    },
    {
      "cell_type": "code",
      "execution_count": null,
      "metadata": {
        "id": "jgUj4y1QmYVp"
      },
      "outputs": [],
      "source": [
        "tf.keras.utils.plot_model(model=D,show_shapes=True)"
      ]
    },
    {
      "cell_type": "code",
      "execution_count": null,
      "metadata": {
        "id": "5pJzCccnm8Kt"
      },
      "outputs": [],
      "source": [
        "G = generator()"
      ]
    },
    {
      "cell_type": "code",
      "execution_count": null,
      "metadata": {
        "id": "oSNe9eeGnhlh"
      },
      "outputs": [],
      "source": [
        "G.summary()"
      ]
    },
    {
      "cell_type": "code",
      "execution_count": null,
      "metadata": {
        "id": "JK_ZCuHUnjPB"
      },
      "outputs": [],
      "source": [
        "tf.keras.utils.plot_model(model=G,show_shapes=True)"
      ]
    },
    {
      "cell_type": "code",
      "execution_count": null,
      "metadata": {
        "id": "l-9JSxeqn1E8"
      },
      "outputs": [],
      "source": [
        "random_noise = tf.random.normal(shape=(1,100))"
      ]
    },
    {
      "cell_type": "code",
      "execution_count": null,
      "metadata": {
        "id": "8ouMsq-NoyZN"
      },
      "outputs": [],
      "source": [
        "generated_image = G(random_noise,training=False)"
      ]
    },
    {
      "cell_type": "code",
      "execution_count": null,
      "metadata": {
        "id": "9gLxqQ7QpPP9"
      },
      "outputs": [],
      "source": [
        "plt.imshow(generated_image[0,:,:,0],cmap='gray')"
      ]
    },
    {
      "cell_type": "code",
      "execution_count": null,
      "metadata": {
        "id": "Ohog9TGEpYGx"
      },
      "outputs": [],
      "source": [
        "posterior = D(generated_image)"
      ]
    },
    {
      "cell_type": "code",
      "execution_count": null,
      "metadata": {
        "id": "vj3CkPoNqjyK"
      },
      "outputs": [],
      "source": [
        "print(posterior)"
      ]
    },
    {
      "cell_type": "code",
      "execution_count": null,
      "metadata": {
        "id": "XTueewNQqlzr"
      },
      "outputs": [],
      "source": [
        "GAN_epochs = 50\n",
        "noise_shape = 100\n",
        "batch_size = 256"
      ]
    },
    {
      "cell_type": "code",
      "execution_count": null,
      "metadata": {
        "id": "eaF-gDZlrUIV"
      },
      "outputs": [],
      "source": [
        "import keras\n",
        "from IPython import display\n",
        "import numpy as np"
      ]
    },
    {
      "cell_type": "code",
      "execution_count": null,
      "metadata": {
        "id": "l_1tinWHrvFk"
      },
      "outputs": [],
      "source": [
        "bce_loss = tf.keras.losses.BinaryCrossentropy(from_logits=True)"
      ]
    },
    {
      "cell_type": "code",
      "execution_count": null,
      "metadata": {
        "id": "BwoHoUvNr_H8"
      },
      "outputs": [],
      "source": [
        "def D_loss(real_imgs_preds,fake_imgs_preds):\n",
        "\n",
        "  real_imgs_labels = 0.05 * tf.random.uniform(shape=tf.shape(real_imgs_preds)) + tf.ones_like(real_imgs_preds)\n",
        "  fake_imgs_labels = 0.05 * tf.random.uniform(shape=tf.shape(fake_imgs_preds)) + tf.zeros_like(fake_imgs_preds)\n",
        "\n",
        "  real_imgs_bce_loss = bce_loss(y_true=real_imgs_labels,y_pred=real_imgs_preds)\n",
        "  fake_imgs_bce_loss = bce_loss(y_true=fake_imgs_labels,y_pred=fake_imgs_preds)\n",
        "\n",
        "  total_loss = real_imgs_bce_loss + fake_imgs_bce_loss\n",
        "\n",
        "  return total_loss"
      ]
    },
    {
      "cell_type": "code",
      "execution_count": null,
      "metadata": {
        "id": "HcUr7CJRznd2"
      },
      "outputs": [],
      "source": [
        "def G_loss(fake_imgs_preds):\n",
        "\n",
        "  fake_imgs_labels = tf.ones_like(fake_imgs_preds)\n",
        "\n",
        "  return bce_loss(y_true=fake_imgs_labels,y_pred=fake_imgs_preds)"
      ]
    },
    {
      "cell_type": "code",
      "execution_count": null,
      "metadata": {
        "id": "NJuXecP1wYRI"
      },
      "outputs": [],
      "source": [
        "D_optimizer = keras.optimizers.adam_v2.Adam(learning_rate=0.0008,beta_1=0.3)\n",
        "G_optimizer = keras.optimizers.adam_v2.Adam(learning_rate=0.0004,beta_1=0.1)"
      ]
    },
    {
      "cell_type": "code",
      "execution_count": null,
      "metadata": {
        "id": "fm-t8uVnx1p7"
      },
      "outputs": [],
      "source": [
        "GAN_checkpoint_dir = \"/content/drive/MyDrive/GAN_training_checkpoints\"\n",
        "GAN_checkpoint_prefix = os.path.join(GAN_checkpoint_dir,\"ckpt\")\n",
        "GAN_checkpoint = tf.train.Checkpoint(optimizer=[D_optimizer,G_optimizer],model=[D,G])"
      ]
    },
    {
      "cell_type": "code",
      "execution_count": null,
      "metadata": {
        "id": "BE7ivK3M1Bxy"
      },
      "outputs": [],
      "source": [
        "@tf.function\n",
        "def training_step(real_imgs_mini_batch):\n",
        "\n",
        "  G.trainable = False\n",
        "  noise = tf.random.normal(shape=(batch_size,noise_shape))\n",
        "  generated_imgs_mini_batch = G(noise,training=False)\n",
        "\n",
        "  D.trainable = True\n",
        "\n",
        "  with tf.GradientTape() as disc_tape, tf.GradientTape() as gen_tape:\n",
        "\n",
        "    real_imgs_preds = D(real_imgs_mini_batch,training=True)\n",
        "    fake_imgs_preds = D(generated_imgs_mini_batch,training=True)\n",
        "\n",
        "    disc_loss = D_loss(real_imgs_preds,fake_imgs_preds)\n",
        "\n",
        "    gradients_of_disc = disc_tape.gradient(disc_loss,D.trainable_variables)\n",
        "    D_optimizer.apply_gradients(zip(gradients_of_disc,D.trainable_variables))\n",
        "\n",
        "    D.trainable = False\n",
        "    G.trainable = True\n",
        "\n",
        "    #noise = tf.random.normal(shape=(batch_size,noise_shape))\n",
        "    #generated_imgs_mini_batch = G(noise,training=True)\n",
        "\n",
        "    #fake_imgs_preds = D(generated_imgs_mini_batch,training=False)\n",
        "\n",
        "    gen_loss = G_loss(fake_imgs_preds)\n",
        "\n",
        "    gradients_of_gen = gen_tape.gradient(gen_loss,G.trainable_variables)\n",
        "    G_optimizer.apply_gradients(zip(gradients_of_gen,G.trainable_variables))\n",
        "\n",
        "    print(\"Ran Training Step\")\n",
        "\n",
        "    return disc_loss,gen_loss"
      ]
    },
    {
      "cell_type": "code",
      "execution_count": null,
      "metadata": {
        "id": "KBomX2WF-HEW"
      },
      "outputs": [],
      "source": [
        "constant_noise = tf.random.normal(shape=(16,noise_shape))"
      ]
    },
    {
      "cell_type": "code",
      "execution_count": null,
      "metadata": {
        "id": "YugKS7IpBCh7"
      },
      "outputs": [],
      "source": [
        "def generate_and_save_images(generator_model,epoch,test_input):\n",
        "\n",
        "  generated_sample_images = generator_model(test_input,training=False)\n",
        "\n",
        "  fig = plt.figure(figsize=(4,4))\n",
        "\n",
        "  for i in range(generated_sample_images.shape[0]):\n",
        "    plt.subplot(4,4,i+1)\n",
        "    plt.imshow(generated_sample_images[i,:,:,:])\n",
        "    plt.axis(\"off\")\n",
        "\n",
        "  plt.savefig(\"Images_at_Epoch_{:04d}.png\".format(epoch))\n",
        "  plt.show()"
      ]
    },
    {
      "cell_type": "code",
      "execution_count": null,
      "metadata": {
        "id": "OiRHaywRH_Sn"
      },
      "outputs": [],
      "source": [
        "real_imgs_path = \"/content/drive/MyDrive/MelanomaDetection/MelanomaDetection/unlabeled\""
      ]
    },
    {
      "cell_type": "code",
      "execution_count": null,
      "metadata": {
        "id": "jmUzSzqbFbE0"
      },
      "outputs": [],
      "source": [
        "def train_gan(real_imgs_datagen,total_epochs):\n",
        "\n",
        "  for epoch in range(total_epochs):\n",
        "\n",
        "    time_step = 1\n",
        "\n",
        "    for image_batch in real_imgs_datagen:\n",
        "\n",
        "      print(\"Time Step: {}, Epoch: {}\".format(time_step,epoch+1))\n",
        "\n",
        "      with tf.GradientTape() as disc_tape, tf.GradientTape() as gen_tape:\n",
        "\n",
        "        G.trainable = False\n",
        "        noise = tf.random.normal(shape=(batch_size,noise_shape))\n",
        "        generated_imgs_mini_batch = G(noise,training=False)\n",
        "\n",
        "        D.trainable = True\n",
        "\n",
        "        real_imgs_preds = D(image_batch[0],training=True)\n",
        "        fake_imgs_preds = D(generated_imgs_mini_batch,training=True)\n",
        "\n",
        "        disc_loss = D_loss(real_imgs_preds,fake_imgs_preds)\n",
        "\n",
        "        gradients_of_disc = disc_tape.gradient(disc_loss,D.trainable_variables)\n",
        "        D_optimizer.apply_gradients(zip(gradients_of_disc,D.trainable_variables))\n",
        "\n",
        "        D.trainable = False\n",
        "        G.trainable = True\n",
        "\n",
        "        #noise = tf.random.normal(shape=(batch_size,noise_shape))\n",
        "        #generated_imgs_mini_batch = G(noise,training=True)\n",
        "\n",
        "        #fake_imgs_preds = D(generated_imgs_mini_batch,training=False)\n",
        "\n",
        "        gen_loss = G_loss(fake_imgs_preds)\n",
        "\n",
        "        gradients_of_gen = gen_tape.gradient(gen_loss,G.trainable_variables)\n",
        "        G_optimizer.apply_gradients(zip(gradients_of_gen,G.trainable_variables))\n",
        "\n",
        "        print(\"Discriminator Loss: {}, Generator Loss: {}\\n\".format(disc_loss,gen_loss))\n",
        "\n",
        "      if time_step > len(os.listdir(real_imgs_path))//batch_size:\n",
        "        break\n",
        "\n",
        "      time_step = time_step + 1\n",
        "\n",
        "    generate_and_save_images(generator_model=G,epoch=epoch+1,test_input=constant_noise)\n",
        "\n",
        "    if (epoch + 1) % 5 == 0:\n",
        "      GAN_checkpoint.save(file_prefix=GAN_checkpoint_prefix)\n",
        "\n",
        "  generate_and_save_images(generator_model=G,epoch=total_epochs,test_input=constant_noise)"
      ]
    },
    {
      "cell_type": "code",
      "execution_count": null,
      "metadata": {
        "id": "K2Hq256QLRR5"
      },
      "outputs": [],
      "source": [
        "train_gan(real_imgs_datagen=unlabeled_datagen,total_epochs=GAN_epochs)"
      ]
    },
    {
      "cell_type": "code",
      "execution_count": null,
      "metadata": {
        "id": "F69BfNMtLrxu"
      },
      "outputs": [],
      "source": [
        "latest_checkpoint_path = tf.train.latest_checkpoint(\"/content/drive/MyDrive/GAN_training_checkpoints\")"
      ]
    },
    {
      "cell_type": "code",
      "execution_count": null,
      "metadata": {
        "id": "PpPA9-ZGLcaQ"
      },
      "outputs": [],
      "source": [
        "latest_checkpoint_path"
      ]
    },
    {
      "cell_type": "code",
      "execution_count": null,
      "metadata": {
        "id": "ax6vlivVLeIJ"
      },
      "outputs": [],
      "source": [
        "GAN_checkpoint.restore(latest_checkpoint_path)"
      ]
    },
    {
      "cell_type": "code",
      "execution_count": null,
      "metadata": {
        "id": "gEFEVBVQL4Kn"
      },
      "outputs": [],
      "source": [
        "def generate_and_save_images(generator_model,test_input):\n",
        "\n",
        "  generated_sample_images = generator_model(test_input,training=False)\n",
        "\n",
        "  fig = plt.figure(figsize=(4,4))\n",
        "\n",
        "  for i in range(generated_sample_images.shape[0]):\n",
        "    plt.subplot(4,4,i+1)\n",
        "    plt.imshow(generated_sample_images[i,:,:,:])\n",
        "    plt.axis(\"off\")\n",
        "\n",
        "  plt.show()"
      ]
    },
    {
      "cell_type": "code",
      "execution_count": null,
      "metadata": {
        "id": "EuvwpX0WMgde"
      },
      "outputs": [],
      "source": [
        "generate_and_save_images(generator_model=G,test_input=constant_noise)"
      ]
    },
    {
      "cell_type": "code",
      "execution_count": null,
      "metadata": {
        "id": "At0xWLYiM_ve"
      },
      "outputs": [],
      "source": [
        "unlbld_imgs_base_path = \"/content/drive/MyDrive/MelanomaDetection/MelanomaDetection/unlabeled\""
      ]
    },
    {
      "cell_type": "code",
      "execution_count": null,
      "metadata": {
        "id": "DBXEIAMMP792"
      },
      "outputs": [],
      "source": [
        "from random import randint"
      ]
    },
    {
      "cell_type": "code",
      "execution_count": null,
      "metadata": {
        "id": "QqPomgSbQJ2V"
      },
      "outputs": [],
      "source": [
        "imgs_names_list = os.listdir(unlbld_imgs_base_path)"
      ]
    },
    {
      "cell_type": "code",
      "execution_count": null,
      "metadata": {
        "id": "UlTtM2R_QV7M"
      },
      "outputs": [],
      "source": [
        "total_imgs = len(imgs_names_list)"
      ]
    },
    {
      "cell_type": "code",
      "execution_count": null,
      "metadata": {
        "id": "pZzi7Le7PRZ1"
      },
      "outputs": [],
      "source": [
        "single_img = plt.imread(os.path.join(unlbld_imgs_base_path,imgs_names_list[randint(0,total_imgs-1)]))"
      ]
    },
    {
      "cell_type": "code",
      "execution_count": null,
      "metadata": {
        "id": "f3cHZyhWPxqv"
      },
      "outputs": [],
      "source": [
        "plt.imshow(single_img)"
      ]
    },
    {
      "cell_type": "code",
      "execution_count": null,
      "metadata": {
        "id": "BZ8RyHszP14h"
      },
      "outputs": [],
      "source": [
        "single_fake_img = G(tf.random.normal(shape=(1,100)))"
      ]
    },
    {
      "cell_type": "code",
      "execution_count": null,
      "metadata": {
        "id": "ye1hw0R-RNUx"
      },
      "outputs": [],
      "source": [
        "plt.imshow(single_fake_img[0,:,:,:])"
      ]
    },
    {
      "cell_type": "code",
      "source": [
        "from keras.models import Model"
      ],
      "metadata": {
        "id": "x1skwCwMPQ95"
      },
      "execution_count": null,
      "outputs": []
    },
    {
      "cell_type": "code",
      "execution_count": null,
      "metadata": {
        "id": "VHcyDoI9RRGD"
      },
      "outputs": [],
      "source": [
        "def discriminator_base():\n",
        "\n",
        "  input_to_cls = Input(shape=(32,32,3))\n",
        "\n",
        "  disc_base = Sequential(name=\"disc_base\")\n",
        "  disc_base.add(input_to_cls)\n",
        "\n",
        "\n",
        "  \"\"\"\n",
        "  set_trainable = False\n",
        "\n",
        "  for layer in D.layers:\n",
        "    if layer.name == 'conv2d_2':\n",
        "      set_trainable = True\n",
        "    if set_trainable:\n",
        "      layer.trainable = True\n",
        "    else:\n",
        "      layer.trainable = False\n",
        "  \"\"\"\n",
        "\n",
        "  for layer in D.layers[0:9]:\n",
        "    layer.trainable = False\n",
        "    disc_base.add(layer)\n",
        "\n",
        "  return disc_base"
      ]
    },
    {
      "cell_type": "code",
      "execution_count": null,
      "metadata": {
        "id": "QvGt7XGJjQJp"
      },
      "outputs": [],
      "source": [
        "def unsupervised_classifier():\n",
        "\n",
        "  disc_base = discriminator_base()\n",
        "\n",
        "  #disc_base_unsupervised_cls = Dropout(rate=0.6)(disc_base.output)\n",
        "\n",
        "  disc_base_unsupervised_cls = Dense(units=1,activation=\"sigmoid\")(disc_base.output)\n",
        "\n",
        "  unsupervised_cls = Model(inputs=disc_base.input,outputs=disc_base_unsupervised_cls)\n",
        "\n",
        "  return unsupervised_cls"
      ]
    },
    {
      "cell_type": "code",
      "execution_count": null,
      "metadata": {
        "id": "hnEs4Xd7j1CQ"
      },
      "outputs": [],
      "source": [
        "def supervised_classifier():\n",
        "\n",
        "  disc_base = discriminator_base()\n",
        "\n",
        "  disc_base_supervised_cls = Dropout(rate=0.7)(disc_base.output)\n",
        "\n",
        "  disc_base_supervised_cls = Dense(units=1,activation=\"sigmoid\")(disc_base_supervised_cls)\n",
        "\n",
        "  supervised_cls = Model(inputs=disc_base.input,outputs=disc_base_supervised_cls)\n",
        "\n",
        "  return supervised_cls"
      ]
    },
    {
      "cell_type": "code",
      "execution_count": null,
      "metadata": {
        "id": "v5xbRhxpkCWj"
      },
      "outputs": [],
      "source": [
        "unsupervised_cls = unsupervised_classifier()\n",
        "supervised_cls = supervised_classifier()"
      ]
    },
    {
      "cell_type": "code",
      "source": [
        "unsupervised_cls.summary()"
      ],
      "metadata": {
        "id": "DLviiY5gJveT"
      },
      "execution_count": null,
      "outputs": []
    },
    {
      "cell_type": "code",
      "source": [
        "supervised_cls.summary()"
      ],
      "metadata": {
        "id": "yQx7a_nfThcQ"
      },
      "execution_count": null,
      "outputs": []
    },
    {
      "cell_type": "code",
      "execution_count": null,
      "metadata": {
        "id": "MPuoTj7EkUGu"
      },
      "outputs": [],
      "source": [
        "unsupervised_cls_optimizer = keras.optimizers.adam_v2.Adam(learning_rate=0.0001,beta_1=0.1)\n",
        "supervised_cls_optimizer = keras.optimizers.adam_v2.Adam(learning_rate=0.0001,beta_1=0.1)"
      ]
    },
    {
      "cell_type": "code",
      "execution_count": null,
      "metadata": {
        "id": "_VLqjZG0k7ca"
      },
      "outputs": [],
      "source": [
        "supervised_cls_train_acc_metric = tf.keras.metrics.BinaryAccuracy()\n",
        "supervised_cls_cv_acc_metric = tf.keras.metrics.BinaryAccuracy()"
      ]
    },
    {
      "cell_type": "code",
      "execution_count": null,
      "metadata": {
        "id": "7MQcW5nylcDV"
      },
      "outputs": [],
      "source": [
        "def unsupervised_cls_loss(real_imgs_preds,fake_imgs_preds):\n",
        "\n",
        "  real_imgs_labels = tf.ones_like(real_imgs_preds)\n",
        "  fake_imgs_labels = tf.zeros_like(fake_imgs_preds)\n",
        "\n",
        "  real_imgs_loss = bce_loss(y_true=real_imgs_labels,y_pred=real_imgs_preds)\n",
        "  fake_imgs_loss = bce_loss(y_true=fake_imgs_labels,y_pred=fake_imgs_preds)\n",
        "\n",
        "  total_loss = real_imgs_loss + fake_imgs_loss\n",
        "\n",
        "  return total_loss"
      ]
    },
    {
      "cell_type": "code",
      "execution_count": null,
      "metadata": {
        "id": "zMjVKyzmmj9M"
      },
      "outputs": [],
      "source": [
        "def supervised_cls_loss(imgs_labels,imgs_preds):\n",
        "\n",
        "  imgs_labels = imgs_labels.reshape(imgs_labels.shape[0],1)\n",
        "\n",
        "  return bce_loss(y_true=imgs_labels,y_pred=imgs_preds)"
      ]
    },
    {
      "cell_type": "code",
      "execution_count": null,
      "metadata": {
        "id": "WPGg1gBlm9c6"
      },
      "outputs": [],
      "source": [
        "@tf.function\n",
        "def ssl_training_step(labeled_images,unlabeled_images):\n",
        "\n",
        "  G.trainable = False\n",
        "  unsupervised_cls.trainable = True\n",
        "  supervised_cls.trainable = True\n",
        "\n",
        "  with tf.GradientTape() as supervised_cls_tape, tf.GradientTape() as unsupervised_cls_tape, tf.GradientTape() as gen_tape:\n",
        "\n",
        "    labeled_imgs_preds = supervised_cls(labeled_images[0],training=True)\n",
        "    \n",
        "    supervised_loss = supervised_cls_loss(imgs_labels=labeled_images[1],imgs_preds=labeled_imgs_preds)\n",
        "\n",
        "    gradients_of_supervised_cls = supervised_cls_tape.gradient(supervised_loss,supervised_cls.trainable_variables)\n",
        "    supervised_cls_optimizer.apply_gradients(zip(gradients_of_supervised_cls,supervised_cls.trainable_variables))\n",
        "\n",
        "    noise = tf.random.normal(shape=(batch_size,noise_shape))\n",
        "    generated_images = G(noise,training=False)\n",
        "\n",
        "    real_imgs_preds = unsupervised_cls(unlabeled_images,training=True)\n",
        "    fake_imgs_preds = unsupervised_cls(generated_images,training=True)\n",
        "\n",
        "    unsupervised_loss = unsupervised_cls_loss(real_imgs_preds,fake_imgs_preds)\n",
        "\n",
        "    gradients_of_unsupervised_cls = unsupervised_cls_tape.gradient(unsupervised_loss,unsupervised_cls.trainable_variables)\n",
        "    unsupervised_cls_optimizer.apply_gradients(zip(gradients_of_unsupervised_cls,unsupervised_cls.trainable_variables))\n",
        "\n",
        "    supervised_cls.trainable = False\n",
        "    unsupervised_cls.trainable = False\n",
        "\n",
        "  return supervised_loss,labeled_imgs_preds"
      ]
    },
    {
      "cell_type": "code",
      "execution_count": null,
      "metadata": {
        "id": "2diuTGE3IIQ5"
      },
      "outputs": [],
      "source": [
        "cls_checkpoint_dir = \"/content/drive/MyDrive/cls_training_checkpoints\"\n",
        "checkpoint_prefix = os.path.join(cls_checkpoint_dir,\"ckpt\")\n",
        "cls_checkpoint = tf.train.Checkpoint(optimizer=[supervised_cls_optimizer,unsupervised_cls_optimizer],\n",
        "                                     model=[supervised_cls,unsupervised_cls])"
      ]
    },
    {
      "cell_type": "code",
      "execution_count": null,
      "metadata": {
        "id": "Eo0rVDtdJDDO"
      },
      "outputs": [],
      "source": [
        "cls_epochs = 100"
      ]
    },
    {
      "cell_type": "code",
      "execution_count": null,
      "metadata": {
        "id": "xMfRLfb2JxxQ"
      },
      "outputs": [],
      "source": [
        "cv_data_gen = ImageDataGenerator(rescale=1.0/255.0)"
      ]
    },
    {
      "cell_type": "code",
      "execution_count": null,
      "metadata": {
        "id": "gvkPOEOBJ7NW"
      },
      "outputs": [],
      "source": [
        "cv_datagen = cv_data_gen.flow_from_directory(directory=\"/content/drive/MyDrive/MelanomaDetection/MelanomaDetection/cv\",\n",
        "                                             target_size=(32,32),\n",
        "                                             classes=os.listdir(\"/content/drive/MyDrive/MelanomaDetection/MelanomaDetection/cv\"),\n",
        "                                             class_mode=\"binary\",batch_size=150)"
      ]
    },
    {
      "cell_type": "code",
      "execution_count": null,
      "metadata": {
        "id": "uBPKt0lULPWL"
      },
      "outputs": [],
      "source": [
        "labeled_data_gen = ImageDataGenerator(rotation_range=90,brightness_range=(0.5,1),horizontal_flip=True,vertical_flip=True,rescale=1.0/255.0)"
      ]
    },
    {
      "cell_type": "code",
      "execution_count": null,
      "metadata": {
        "id": "VhsfaiNqLcxc"
      },
      "outputs": [],
      "source": [
        "labeled_datagen = labeled_data_gen.flow_from_directory(directory=\"/content/drive/MyDrive/MelanomaDetection/MelanomaDetection/labeled\",\n",
        "                                                       target_size=(32,32),\n",
        "                                                       classes=os.listdir(\"/content/drive/MyDrive/MelanomaDetection/MelanomaDetection/labeled\"),\n",
        "                                                       class_mode=\"binary\",batch_size=7)"
      ]
    },
    {
      "cell_type": "code",
      "execution_count": null,
      "metadata": {
        "id": "hevA4eY7Kg0w"
      },
      "outputs": [],
      "source": [
        "def train_ssl_classifier(labeled_imgs_datagen,unlabeled_imgs_datagen,cv_imgs_datagen,total_epochs):\n",
        "\n",
        "  for epoch in range(total_epochs):\n",
        "\n",
        "    time_step = 1\n",
        "\n",
        "    for labeled_images_batch, unlabeled_images_batch in zip(labeled_imgs_datagen,unlabeled_imgs_datagen):\n",
        "\n",
        "      with tf.GradientTape() as supervised_cls_tape, tf.GradientTape() as unsupervised_cls_tape, tf.GradientTape() as gen_tape:\n",
        "\n",
        "        G.trainable = False\n",
        "        #unsupervised_cls.trainable = True\n",
        "        #supervised_cls.trainable = True\n",
        "\n",
        "        labeled_imgs_preds = supervised_cls(labeled_images_batch[0],training=True)\n",
        "    \n",
        "        supervised_loss = supervised_cls_loss(imgs_labels=labeled_images_batch[1],imgs_preds=labeled_imgs_preds)\n",
        "\n",
        "        gradients_of_supervised_cls = supervised_cls_tape.gradient(supervised_loss,supervised_cls.trainable_variables)\n",
        "        supervised_cls_optimizer.apply_gradients(zip(gradients_of_supervised_cls,supervised_cls.trainable_variables))\n",
        "\n",
        "        noise = tf.random.normal(shape=(batch_size,noise_shape))\n",
        "        generated_images = G(noise,training=False)\n",
        "\n",
        "        real_imgs_preds = unsupervised_cls(unlabeled_images_batch[0],training=True)\n",
        "        fake_imgs_preds = unsupervised_cls(generated_images,training=True)\n",
        "\n",
        "        unsupervised_loss = unsupervised_cls_loss(real_imgs_preds,fake_imgs_preds)\n",
        "\n",
        "        gradients_of_unsupervised_cls = unsupervised_cls_tape.gradient(unsupervised_loss,unsupervised_cls.trainable_variables)\n",
        "        unsupervised_cls_optimizer.apply_gradients(zip(gradients_of_unsupervised_cls,unsupervised_cls.trainable_variables))\n",
        "\n",
        "        #supervised_cls.trainable = False\n",
        "        #unsupervised_cls.trainable = False\n",
        "\n",
        "      if time_step > len(os.listdir(\"/content/drive/MyDrive/MelanomaDetection/MelanomaDetection/unlabeled\"))//batch_size:\n",
        "        break\n",
        "\n",
        "      supervised_cls_train_acc_metric.update_state(labeled_images_batch[1],labeled_imgs_preds)\n",
        "      print(\"Training Loss at Time Step {} of Epoch {} is {}\".format(time_step,epoch+1,float(supervised_loss)))\n",
        "\n",
        "      time_step = time_step + 1\n",
        "\n",
        "    training_accuracy = supervised_cls_train_acc_metric.result()\n",
        "    print(\"\\nTraining Accuracy after Epoch {} is {}\".format(epoch+1,float(training_accuracy)))\n",
        "\n",
        "    supervised_cls_train_acc_metric.reset_states()\n",
        "\n",
        "    cv_time_steps = 0\n",
        "\n",
        "    for X_cv,Y_cv_labels in cv_imgs_datagen:\n",
        "\n",
        "      if cv_time_steps > 300//150:\n",
        "        break\n",
        "\n",
        "      cv_time_steps = cv_time_steps + 1\n",
        "\n",
        "      Y_cv_preds = supervised_cls(X_cv,training=False)\n",
        "      supervised_cls_cv_acc_metric.update_state(Y_cv_labels,Y_cv_preds)\n",
        "\n",
        "    cv_accuracy = supervised_cls_cv_acc_metric.result()\n",
        "    print(\"Corss Validation Accuracy after Epoch {} is {}\\n\".format(epoch+1,float(cv_accuracy)))\n",
        "\n",
        "    supervised_cls_cv_acc_metric.reset_states()\n",
        "\n",
        "    cls_checkpoint.save(file_prefix=checkpoint_prefix)"
      ]
    },
    {
      "cell_type": "code",
      "execution_count": null,
      "metadata": {
        "id": "xT3PzlqyRPAC"
      },
      "outputs": [],
      "source": [
        "train_ssl_classifier(labeled_imgs_datagen=labeled_datagen,unlabeled_imgs_datagen=unlabeled_datagen,\n",
        "                     cv_imgs_datagen=cv_datagen,total_epochs=cls_epochs)"
      ]
    },
    {
      "cell_type": "code",
      "execution_count": null,
      "metadata": {
        "id": "dSF-MPFMR_vL"
      },
      "outputs": [],
      "source": []
    }
  ],
  "metadata": {
    "accelerator": "GPU",
    "colab": {
      "provenance": [],
      "mount_file_id": "1PhRt2qHSbLYkYN1j-g3PffRN8uFAinSL",
      "authorship_tag": "ABX9TyNl5VjYKQ/alg6aXC7nVUan"
    },
    "kernelspec": {
      "display_name": "Python 3",
      "name": "python3"
    },
    "language_info": {
      "name": "python"
    }
  },
  "nbformat": 4,
  "nbformat_minor": 0
}